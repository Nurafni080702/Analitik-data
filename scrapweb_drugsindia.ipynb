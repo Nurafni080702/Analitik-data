{
  "nbformat": 4,
  "nbformat_minor": 0,
  "metadata": {
    "colab": {
      "provenance": [],
      "authorship_tag": "ABX9TyOkQ9Mp+qMo/lfR/feIF4sO",
      "include_colab_link": true
    },
    "kernelspec": {
      "name": "python3",
      "display_name": "Python 3"
    },
    "language_info": {
      "name": "python"
    }
  },
  "cells": [
    {
      "cell_type": "markdown",
      "metadata": {
        "id": "view-in-github",
        "colab_type": "text"
      },
      "source": [
        "<a href=\"https://colab.research.google.com/github/Nurafni080702/Analitik-data/blob/main/scrapweb_drugsindia.ipynb\" target=\"_parent\"><img src=\"https://colab.research.google.com/assets/colab-badge.svg\" alt=\"Open In Colab\"/></a>"
      ]
    },
    {
      "cell_type": "code",
      "execution_count": 1,
      "metadata": {
        "colab": {
          "base_uri": "https://localhost:8080/"
        },
        "id": "SuocRCbIlNK3",
        "outputId": "27fecd04-8eae-4dbf-ddd8-7e61bb1f803a"
      },
      "outputs": [
        {
          "output_type": "stream",
          "name": "stdout",
          "text": [
            "Requirement already satisfied: requests in /usr/local/lib/python3.10/dist-packages (2.31.0)\n",
            "Requirement already satisfied: charset-normalizer<4,>=2 in /usr/local/lib/python3.10/dist-packages (from requests) (3.2.0)\n",
            "Requirement already satisfied: idna<4,>=2.5 in /usr/local/lib/python3.10/dist-packages (from requests) (3.4)\n",
            "Requirement already satisfied: urllib3<3,>=1.21.1 in /usr/local/lib/python3.10/dist-packages (from requests) (2.0.4)\n",
            "Requirement already satisfied: certifi>=2017.4.17 in /usr/local/lib/python3.10/dist-packages (from requests) (2023.7.22)\n"
          ]
        }
      ],
      "source": [
        "pip install requests"
      ]
    },
    {
      "cell_type": "code",
      "source": [
        "pip install beautifulsoup4"
      ],
      "metadata": {
        "colab": {
          "base_uri": "https://localhost:8080/"
        },
        "id": "t2QDGBCOlbYs",
        "outputId": "fb7ca622-8b0e-4ad4-d0e0-62670c39d274"
      },
      "execution_count": 2,
      "outputs": [
        {
          "output_type": "stream",
          "name": "stdout",
          "text": [
            "Requirement already satisfied: beautifulsoup4 in /usr/local/lib/python3.10/dist-packages (4.11.2)\n",
            "Requirement already satisfied: soupsieve>1.2 in /usr/local/lib/python3.10/dist-packages (from beautifulsoup4) (2.5)\n"
          ]
        }
      ]
    },
    {
      "cell_type": "code",
      "source": [
        "import requests     # library untuk URL\n",
        "from bs4 import BeautifulSoup   # library untuk scrapping web\n",
        "from csv import writer    # library untuk membuat file CSV"
      ],
      "metadata": {
        "id": "NJLQtNAelfRj"
      },
      "execution_count": 8,
      "outputs": []
    },
    {
      "cell_type": "code",
      "source": [
        "url = requests.get('https://www.statista.com/statistics/1049688/india-number-of-people-injecting-drugs-state-leading/')\n",
        "scrapweb = BeautifulSoup(url.content, 'html.parser')\n",
        "find_data = scrapweb.find_all(id=\"content\")\n",
        "\n",
        "for x in find_data:\n",
        "  print(x.text)"
      ],
      "metadata": {
        "colab": {
          "base_uri": "https://localhost:8080/"
        },
        "id": "4VHTA-mRloPL",
        "outputId": "5d14336a-549e-4b7d-cadf-4cee9f34d9d8"
      },
      "execution_count": 11,
      "outputs": [
        {
          "output_type": "stream",
          "name": "stdout",
          "text": [
            "Health, Pharma & Medtech›State of Health\n",
            "        Premium\n",
            "Premium statistics Industry-specific and extensively researched technical data (partially from exclusive partnerships). A paid subscription is required for full access. Read more\n",
            "                \n",
            "                            Number of people who inject drugs in India 2017-2018 by leading state\n",
            "                        \n",
            "                                                                Published by\n",
            "                                    A. Minhas,\n",
            "                                                            \n",
            "                                                                            Jul 12, 2023\n",
            "                                                                    \n",
            "                            According to a survey on substance use in India, it was found that between December 2017 and October 2018, Uttar Pradesh had the highest number of people who were using drugs through intravenous methods. Punjab and Delhi followed Uttar Pradesh with over 85 thousand people who inject drugs. Findings of the survey estimate that there were a total of 850 thousand people across the country using intravenous drugs.\n",
            "                            \n",
            "                                Read more\n",
            "                            \n",
            "                        Number of people who inject drugs across India between December 2017 and October 2018, by leading state \n",
            "                    \n",
            "                            (in 1,000s)\n",
            "                        CharacteristicNumber of people in thousands--------------------You need a Statista Account for unlimited accessImmediate access to 1m+ statisticsIncl. source referencesDownload as PNG, PDF, or XLSGet full accessAlready have an account?\n",
            "    Login\n",
            "                                    Additional Information\n",
            "                                © Statista 2023\n",
            "                                Show source\n",
            "                                \n",
            "                        Download\n",
            "                    PDF+XLS+PNG+PPT+SourceShow detailed source information?Register for freeAlready a member?Log inSources\n",
            "                                Show sources information\n",
            "                            \n",
            "                                Show publisher information\n",
            "                            \n",
            "                                Use Ask Statista Research Service\n",
            "                            \n",
            "                            Release date\n",
            "                        February 2019More information\n",
            "                            Region\n",
            "                        IndiaSurvey time periodDecember 2017 to October 2018Number of respondents473,569 individuals*Age group10-75 years oldSpecial propertiesacross 186 districts.*Method of interviewFace-to-face interview\n",
            "                    Supplementary notes\n",
            "                *Additionally, a Respondent Driven Sampling survey was conducted covering 135 districts and 72,642 people who were dependent on illicit drugs.\r\n",
            "Citation formatsCitation formats\n",
            "                        View options\n",
            "                    Other statistics on the topicState of HealthCannabis use in the past 12 months in Europe as of 2020, by countryState of HealthCocaine use in the past 12 months in Europe as of 2022, by countryCrime & Law EnforcementNumber of drug offences in England and Wales 2002-2023State of HealthEcstasy use in the past 12 months in Europe as of 2021, by country\n",
            "                    \n",
            "                    Profit from additional features with an Employee Account\n",
            "                \n",
            "                \n",
            "                    \n",
            "                    Please create an employee account to be able to mark statistics as favorites.\n",
            "                    Then you can access your favorite statistics via the star in the header.\n",
            "                \n",
            "                \n",
            "                    Register now\n",
            "                \n",
            "                    \n",
            "                    Profit from the additional features of your individual account\n",
            "                \n",
            "                \n",
            "                    \n",
            "                    Currently, you are using a shared account. To use individual functions (e.g., mark statistics as favourites, set\n",
            "                    statistic alerts) please log in with your personal account.\n",
            "                    If you are an admin, please authenticate by logging in again.\n",
            "                \n",
            "                \n",
            "                    Login\n",
            "                To download this statistic in XLS format you need a Statista AccountTo download this statistic in PNG format you need a Statista AccountTo download this statistic in PDF format you need a Statista AccountAs a Premium user you get access to the detailed source references and background information about this statistic.As a Premium user you get access to background information and details about the release of this statistic.As soon as this statistic is updated, you will immediately be notified via e-mail.… to incorporate the statistic into your presentation at any time.You need at least a Starter Account to use this feature.You need to upgrade your Account to download this statisticImmediate access to statistics, forecasts & reportsUsage and publication rightsDownload in various formatsRegister for freeAlready have an account?\n",
            "    LoginYou need one of our Business Solutions to use this functionImmediate access to statistics, forecasts & reportsUsage and publication rightsDownload in various formatsView Business SolutionsAlready have an account?\n",
            "    LoginStatista Accounts:\n",
            "                                                                                                                                                                    Access All Statistics. Starting from $1,788 USD / Year\n",
            "                        Basic Account\n",
            "                Get to know the platformYou only have access to basic statistics.\n",
            "                                    \n",
            "                                    This statistic is not included in your account.Starter AccountThe ideal entry-level account for individual usersInstant access to 1m statisticsDownload in XLS, PDF & PNG formatDetailed references$189 USD $149 USD / Month *\n",
            "                                        in the first 12 months\n",
            "                                    Professional AccountFull accessBusiness Solutions including all features.\n",
            "            \n",
            "                        * Prices do not include sales tax.\n",
            "                \n",
            "        \n",
            "                                    Other statistics that may interest you\n",
            "                            The most important statisticsNumber of inhalant users in India by level of use 2017-2018States with the highest number of hallucinogenic users India 2017-2018Most used drugs injected India 2017-2018Number of opioid consumers in India by type 2017-2018Share of substance dependents who received treatment 2017-2018Type of treatment received by substance dependents 2017-2018Share of current opioid consumers in India 2017-2018 by demographicShare of opioid consumers in India by 2017-2018 level of useNumber of opioid users in India by level of use 2017-2018Share of opioid consumers in India by level of use 2017-2018The most important statisticsNumber of children dependent on inhalant drugs in India 2017-2018 by stateShare of children using inhalant drugs in India 2017-2018 by stateShare of adult inhalant users in India by level of use 2017-2018Share of child inhalant users in India by level of use 2017-2018Number of problem users of sedatives in India 2017-2018 by stateShare of cannabis users in India 2017-2018 by demographicShare of sedative users in India 2017-2018 by stateShare of alcohol consumers in India 2017-2018 by demographicNumber of problem users of opioids in India 2017-2018 by stateShare of most common alcohol consumed in India 2017-2018 by typeThe most important statisticsNumber of people injecting drugs with HIV or hepatitis C worldwide in 2017Volume of illicit substances seized in France 2020, by substanceShare of respondents cannabis use in Sweden 2018, by gender and age groupSeizure volume of drugs Vietnam 2018, by typeU.S. drug overdose deaths among those aged 15 to 24 years from 1999 to 2021Colombia: number of arrests for drug trafficking 2016, by agePsychoactive drug-related deaths in England 2012, by solely implicated drugThailand: opium poppy field destruction 1995-2013Pakistan: opium poppy field destruction 1996-2015Cropland for opium poppy in Afghanistan 1994-2015The most important statisticsShare of cannabis product consumers in India 2017-2018 by level of useShare of current consumers of cannabis in India 2017-2018 by stateNumber of alcohol users in India 2017-2018 by typeNumber of problem users of cannabis in India 2017-2018 by stateShare of alcohol consumers in India 2017-2018 by typeShare of opioid users in India 2017-2018 by stateConsumption of cannabis in India by level of use 2017-2018Share of cannabis consumers in India by level of use 2017-2018Number of problem users of cannabis in India by type 2017-2018Share of alcohol consumers in India 2017-2018 by state Other statistics that may interest you Statistics on \n",
            "                About the industry\n",
            "            \n",
            "                10\n",
            "            \n",
            "                                Premium Statistic\n",
            "                            Number of inhalant users in India by level of use 2017-2018\n",
            "                                Premium Statistic\n",
            "                            States with the highest number of hallucinogenic users India 2017-2018\n",
            "                                Premium Statistic\n",
            "                            Most used drugs injected India 2017-2018\n",
            "                                Premium Statistic\n",
            "                            Number of opioid consumers in India by type 2017-2018\n",
            "                                Premium Statistic\n",
            "                            Share of substance dependents who received treatment 2017-2018\n",
            "                                Premium Statistic\n",
            "                            Type of treatment received by substance dependents 2017-2018\n",
            "                                Premium Statistic\n",
            "                            Share of current opioid consumers in India 2017-2018 by demographic\n",
            "                                Premium Statistic\n",
            "                            Share of opioid consumers in India by 2017-2018 level of use\n",
            "                                Premium Statistic\n",
            "                            Number of opioid users in India by level of use 2017-2018\n",
            "                                Premium Statistic\n",
            "                            Share of opioid consumers in India by level of use 2017-2018\n",
            "                About the region\n",
            "            \n",
            "                10\n",
            "            \n",
            "                                Premium Statistic\n",
            "                            Number of children dependent on inhalant drugs in India 2017-2018 by state\n",
            "                                Premium Statistic\n",
            "                            Share of children using inhalant drugs in India 2017-2018 by state\n",
            "                                Premium Statistic\n",
            "                            Share of adult inhalant users in India by level of use 2017-2018\n",
            "                                Premium Statistic\n",
            "                            Share of child inhalant users in India by level of use 2017-2018\n",
            "                                Premium Statistic\n",
            "                            Number of problem users of sedatives in India 2017-2018 by state\n",
            "                                Premium Statistic\n",
            "                            Share of cannabis users in India 2017-2018 by demographic\n",
            "                                Premium Statistic\n",
            "                            Share of sedative users in India 2017-2018 by state\n",
            "                                Premium Statistic\n",
            "                            Share of alcohol consumers in India 2017-2018 by demographic\n",
            "                                Premium Statistic\n",
            "                            Number of problem users of opioids in India 2017-2018 by state\n",
            "                                Premium Statistic\n",
            "                            Share of most common alcohol consumed in India 2017-2018 by type\n",
            "                Other regions\n",
            "            \n",
            "                10\n",
            "            \n",
            "                                Basic Statistic\n",
            "                            Number of people injecting drugs with HIV or hepatitis C worldwide in 2017\n",
            "                                Premium Statistic\n",
            "                            Volume of illicit substances seized in France 2020, by substance\n",
            "                                Premium Statistic\n",
            "                            Share of respondents cannabis use in Sweden 2018, by gender and age group\n",
            "                                Premium Statistic\n",
            "                            Seizure volume of drugs Vietnam 2018, by type\n",
            "                                Basic Statistic\n",
            "                            U.S. drug overdose deaths among those aged 15 to 24 years from 1999 to 2021\n",
            "                                Premium Statistic\n",
            "                            Colombia: number of arrests for drug trafficking 2016, by age\n",
            "                                Basic Statistic\n",
            "                            Psychoactive drug-related deaths in England 2012, by solely implicated drug\n",
            "                                Basic Statistic\n",
            "                            Thailand: opium poppy field destruction 1995-2013\n",
            "                                Basic Statistic\n",
            "                            Pakistan: opium poppy field destruction 1996-2015\n",
            "                                Premium Statistic\n",
            "                            Cropland for opium poppy in Afghanistan 1994-2015\n",
            "                Related statistics\n",
            "            \n",
            "                10\n",
            "            \n",
            "                                Premium Statistic\n",
            "                            Share of cannabis product consumers in India 2017-2018 by level of use\n",
            "                                Premium Statistic\n",
            "                            Share of current consumers of cannabis in India 2017-2018 by state\n",
            "                                Premium Statistic\n",
            "                            Number of alcohol users in India 2017-2018 by type\n",
            "                                Premium Statistic\n",
            "                            Number of problem users of cannabis in India 2017-2018 by state\n",
            "                                Premium Statistic\n",
            "                            Share of alcohol consumers in India 2017-2018 by type\n",
            "                                Premium Statistic\n",
            "                            Share of opioid users in India 2017-2018 by state\n",
            "                                Premium Statistic\n",
            "                            Consumption of cannabis in India by level of use 2017-2018\n",
            "                                Premium Statistic\n",
            "                            Share of cannabis consumers in India by level of use 2017-2018\n",
            "                                Premium Statistic\n",
            "                            Number of problem users of cannabis in India by type 2017-2018\n",
            "                                Premium Statistic\n",
            "                            Share of alcohol consumers in India 2017-2018 by state Further related statistics\n",
            "                10\n",
            "            \n",
            "                                Premium Statistic\n",
            "                            Number of worldwide users of cocaine by region 2010-2021\n",
            "                                Basic Statistic\n",
            "                            Foreign exchange earnings from tourism in India 2000-2021\n",
            "                                Basic Statistic\n",
            "                            Number of international tourist arrivals in India 2010-2021\n",
            "                                Basic Statistic\n",
            "                            International tourism receipts of India 2011-2021\n",
            "                                Premium Statistic\n",
            "                            Amphetamine users worldwide by region 2010-2020\n",
            "                                Premium Statistic\n",
            "                            Ecstasy consumers worldwide by region 2010-2021\n",
            "                                Premium Statistic\n",
            "                            Number of cannabis users worldwide by region 2011-2021\n",
            "                                Basic Statistic\n",
            "                            Per capita consumer spending in India 1974-2012\n",
            "                                Basic Statistic\n",
            "                            U.S. high school students' concerns about paying for college 2016\n",
            "                                Basic Statistic\n",
            "                            Number of patients with non-communicable diseases in India 2010Further Content: You might find this interesting as well\n",
            "                StatisticsNumber of worldwide users of cocaine by region 2010-2021Foreign exchange earnings from tourism in India 2000-2021Number of international tourist arrivals in India 2010-2021International tourism receipts of India 2011-2021Amphetamine users worldwide by region 2010-2020Ecstasy consumers worldwide by region 2010-2021Number of cannabis users worldwide by region 2011-2021Per capita consumer spending in India 1974-2012U.S. high school students' concerns about paying for college 2016Number of patients with non-communicable diseases in India 2010TopicsDrug use in the United Kingdom (UK)Drug use in the U.S.National Health Service (NHS) UKDrug situation in EuropeRenal health in the UKStatista Accounts:\n",
            "                                                                                                                                                                    Access All Statistics. Starting from $1,788 USD / YearLearn more about how Statista can support your business.Request webinarMinistry of Social Justice and Empowerment (India). (February 21, 2019). Number of people who inject drugs across India between December 2017 and October 2018, by leading state (in 1,000s) [Graph]. In Statista. Retrieved September 20, 2023, from https://www.statista.com/statistics/1049688/india-number-of-people-injecting-drugs-state-leading/Ministry of Social Justice and Empowerment (India). \"Number of people who inject drugs across India between December 2017 and October 2018, by leading state (in 1,000s).\" Chart. February 21, 2019. Statista. Accessed September 20, 2023. https://www.statista.com/statistics/1049688/india-number-of-people-injecting-drugs-state-leading/Ministry of Social Justice and Empowerment (India). (2019). Number of people who inject drugs across India between December 2017 and October 2018, by leading state (in 1,000s). Statista. Statista Inc.. Accessed: September 20, 2023. https://www.statista.com/statistics/1049688/india-number-of-people-injecting-drugs-state-leading/Ministry of Social Justice and Empowerment (India). \"Number of People Who Inject Drugs across India between December 2017 and October 2018, by Leading State (in 1,000s).\" Statista, Statista Inc., 21 Feb 2019, https://www.statista.com/statistics/1049688/india-number-of-people-injecting-drugs-state-leading/Ministry of Social Justice and Empowerment (India), Number of people who inject drugs across India between December 2017 and October 2018, by leading state (in 1,000s) Statista, https://www.statista.com/statistics/1049688/india-number-of-people-injecting-drugs-state-leading/ (last visited September 20, 2023)Number of people who inject drugs across India between December 2017 and October 2018, by leading state (in 1,000s) [Graph], Ministry of Social Justice and Empowerment (India), February 21, 2019. [Online]. Available: https://www.statista.com/statistics/1049688/india-number-of-people-injecting-drugs-state-leading/\n"
          ]
        }
      ]
    }
  ]
}