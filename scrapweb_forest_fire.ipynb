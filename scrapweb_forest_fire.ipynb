{
  "nbformat": 4,
  "nbformat_minor": 0,
  "metadata": {
    "colab": {
      "provenance": [],
      "authorship_tag": "ABX9TyPck31COSxnijJ0MTqW3K1D",
      "include_colab_link": true
    },
    "kernelspec": {
      "name": "python3",
      "display_name": "Python 3"
    },
    "language_info": {
      "name": "python"
    }
  },
  "cells": [
    {
      "cell_type": "markdown",
      "metadata": {
        "id": "view-in-github",
        "colab_type": "text"
      },
      "source": [
        "<a href=\"https://colab.research.google.com/github/Nurafni080702/Analitik-data/blob/main/scrapweb_forest_fire.ipynb\" target=\"_parent\"><img src=\"https://colab.research.google.com/assets/colab-badge.svg\" alt=\"Open In Colab\"/></a>"
      ]
    },
    {
      "cell_type": "code",
      "execution_count": 1,
      "metadata": {
        "colab": {
          "base_uri": "https://localhost:8080/"
        },
        "id": "OeTzrj9jpRlA",
        "outputId": "bef1e191-4efc-49aa-f669-b186ac49cde7"
      },
      "outputs": [
        {
          "output_type": "stream",
          "name": "stdout",
          "text": [
            "Requirement already satisfied: requests in /usr/local/lib/python3.10/dist-packages (2.31.0)\n",
            "Requirement already satisfied: charset-normalizer<4,>=2 in /usr/local/lib/python3.10/dist-packages (from requests) (3.2.0)\n",
            "Requirement already satisfied: idna<4,>=2.5 in /usr/local/lib/python3.10/dist-packages (from requests) (3.4)\n",
            "Requirement already satisfied: urllib3<3,>=1.21.1 in /usr/local/lib/python3.10/dist-packages (from requests) (2.0.4)\n",
            "Requirement already satisfied: certifi>=2017.4.17 in /usr/local/lib/python3.10/dist-packages (from requests) (2023.7.22)\n"
          ]
        }
      ],
      "source": [
        "pip install requests"
      ]
    },
    {
      "cell_type": "code",
      "source": [
        "pip install beautifulsoup4"
      ],
      "metadata": {
        "colab": {
          "base_uri": "https://localhost:8080/"
        },
        "id": "dOaI_2xbpeJP",
        "outputId": "44cf4f78-9e89-4715-909b-545705386dca"
      },
      "execution_count": 2,
      "outputs": [
        {
          "output_type": "stream",
          "name": "stdout",
          "text": [
            "Requirement already satisfied: beautifulsoup4 in /usr/local/lib/python3.10/dist-packages (4.11.2)\n",
            "Requirement already satisfied: soupsieve>1.2 in /usr/local/lib/python3.10/dist-packages (from beautifulsoup4) (2.5)\n"
          ]
        }
      ]
    },
    {
      "cell_type": "code",
      "source": [
        "import requests     # library untuk URL\n",
        "from bs4 import BeautifulSoup   # library untuk scrapping web\n",
        "from csv import writer    # library untuk membuat file CSV"
      ],
      "metadata": {
        "id": "pmwn01uHph9R"
      },
      "execution_count": 3,
      "outputs": []
    },
    {
      "cell_type": "code",
      "source": [
        "url = requests.get('https://www.statista.com/statistics/1264709/area-burned-by-wildfire-in-greece/')\n",
        "scrapweb = BeautifulSoup(url.content, 'html.parser')\n",
        "find_data = scrapweb.find_all(id=\"content\")\n",
        "\n",
        "for x in find_data:\n",
        "  print(x.text)"
      ],
      "metadata": {
        "colab": {
          "base_uri": "https://localhost:8080/"
        },
        "id": "OYlb2baWpjwD",
        "outputId": "bd8ad50c-eae7-44ed-d986-2b1bff69c561"
      },
      "execution_count": 4,
      "outputs": [
        {
          "output_type": "stream",
          "name": "stdout",
          "text": [
            "Energy & Environment›Climate and Weather\n",
            "                            Land burned by forest fires in Greece 2009-2023\n",
            "                        \n",
            "                                                                                                    Published by\n",
            "                                    Erick Burgueño Salas,\n",
            "                                    \n",
            "                                                                            Aug 16, 2023\n",
            "                                                                    \n",
            "                            As of August 2023, wildfires in Greece had burned an area of 52,801 hectares that year. In 2021, Greece had seen over 130,000 hectares of land burned by wildfires. The burnt area that year was nearly ten times the size of affected areas in the three previous years and also significantly larger than the average of the previous decade.\n",
            "                            \n",
            "                                Read more\n",
            "                            \n",
            "                        Area burned by wildfires in Greece from 2009 to 2023 \n",
            "                    \n",
            "                            (in hectares)\n",
            "                        \n",
            "                                    table\n",
            "                                \n",
            "                                    column chart\n",
            "                                CharacteristicArea burned by fires in hectares2023*52,801202222,4802021130,744202014,915201910,736201812,037201720,041201631,707201511,613201414,815201319,762201252,487201135,71320106,472200942,807\n",
            "                                                Loading statistic... \n",
            "                                            \n",
            "                                    Additional Information\n",
            "                                © Statista 2023\n",
            "                                Show source\n",
            "                                \n",
            "                Download for free\n",
            "            \n",
            "                        Download\n",
            "                    PDF+XLS+PNG+PPT+SourceShow detailed source information?Register for freeAlready a member?Log inSource\n",
            "                                Show sources information\n",
            "                            \n",
            "                                Show publisher information\n",
            "                            \n",
            "                                Use Ask Statista Research Service\n",
            "                            \n",
            "                            Release date\n",
            "                        August 2023More information\n",
            "                            Region\n",
            "                        GreeceSurvey time period2009 to 2023\n",
            "                    Supplementary notes\n",
            "                * As of August 15, 2023. \r\n",
            "The source does not provide a publication date. The release date given is the date of website access.\r\n",
            "\r\n",
            "Data includes wildfires larger than 30 hectares, which make up roughly 80 percent of total fires.Citation formatsCitation formats\n",
            "                        View options\n",
            "                    Other statistics on the topicForestryTen countries with most forest area 2020Climate and WeatherDeadliest wildfires worldwide 1990-2021Climate and WeatherLand burned by forest fires in Turkey 2009-2023Climate and WeatherLand burned by forest fires in Portugal 2009-2023\n",
            "                                Erick Burgueño Salas\n",
            "                            \n",
            "                                Research expert covering climate change and the water industry\n",
            "                            Get in touch with us now\n",
            "                    \n",
            "                    Profit from additional features with an Employee Account\n",
            "                \n",
            "                \n",
            "                    \n",
            "                    Please create an employee account to be able to mark statistics as favorites.\n",
            "                    Then you can access your favorite statistics via the star in the header.\n",
            "                \n",
            "                \n",
            "                    Register now\n",
            "                \n",
            "                    \n",
            "                    Profit from the additional features of your individual account\n",
            "                \n",
            "                \n",
            "                    \n",
            "                    Currently, you are using a shared account. To use individual functions (e.g., mark statistics as favourites, set\n",
            "                    statistic alerts) please log in with your personal account.\n",
            "                    If you are an admin, please authenticate by logging in again.\n",
            "                \n",
            "                \n",
            "                    Login\n",
            "                To access this feature you need a Statista AccountRegister for freeAlready have an account?\n",
            "    LoginYou need one of our Business Solutions to use this functionImmediate access to statistics, forecasts & reportsUsage and publication rightsDownload in various formatsView Business SolutionsAlready have an account?\n",
            "    LoginStatista Accounts:\n",
            "                                                                                                                                                                    Access All Statistics. Starting from $1,788 USD / Year\n",
            "                        Basic Account\n",
            "                Get to know the platformYou only have access to basic statistics.Starter AccountThe ideal entry-level account for individual usersInstant access to 1m statisticsDownload in XLS, PDF & PNG formatDetailed references$189 USD $149 USD / Month *\n",
            "                                        in the first 12 months\n",
            "                                    Professional AccountFull accessBusiness Solutions including all features.\n",
            "            \n",
            "                        * Prices do not include sales tax.\n",
            "                \n",
            "        \n",
            "                        Statistics on\n",
            "                    \n",
            "                    \"\n",
            "                    \n",
            "                        Wildfires in the Mediterranean\n",
            "                    \n",
            "                    \"\n",
            "                            The most important statisticsTen countries with most forest area 2020Main threats to trees worldwide 2020, by activityGlobal economic losses from natural disasters 2022, by type Global tree cover loss 2022, by dominant driverGlobal forest cover loss by wildfires 2001-2022Cumulative wildfire casualties worldwide 1911-2021Deadliest wildfires worldwide 1990-2021The most important statisticsLand burned by wildfires in the Mediterranean 2023, by countryLand burned by forest fires in Greece 2009-2023Weekly land burned by wildfires in Greece 2021-2023Land burned by forest fires in Spain 2009-2023Land burned by forest fires in Italy 2009-2023Weekly land burned by wildfires in Italy 2023Land burned by forest fires in Algeria 2009-2022Land burned by forest fires in Portugal 2009-2023The most important statisticsEuropean wildfire costs 2023, by countryOperating costs for wildfire suppression in the Mediterranean 2021, by typeWildfire-related casualties in the Mediterranean August 2021, by countryForest cover loss by wildfires in Greece 2001-2022 Forest cover loss by wildfires in Spain 2001-2022 Wildfire-related injuries and casualties in Spain 2021Number of aerial interventions to suppress wildfires in Spain 2021, by regionForest cover loss by wildfires in Italy 2001-2022 Other statistics that may interest you Wildfires in the Mediterranean\n",
            "                Overview\n",
            "            \n",
            "                7\n",
            "            \n",
            "                                Basic Statistic\n",
            "                            Ten countries with most forest area 2020\n",
            "                                Premium Statistic\n",
            "                            Main threats to trees worldwide 2020, by activity\n",
            "                                Premium Statistic\n",
            "                            Global economic losses from natural disasters 2022, by type \n",
            "                                Basic Statistic\n",
            "                            Global tree cover loss 2022, by dominant driver\n",
            "                                Premium Statistic\n",
            "                            Global forest cover loss by wildfires 2001-2022\n",
            "                                Basic Statistic\n",
            "                            Cumulative wildfire casualties worldwide 1911-2021\n",
            "                                Basic Statistic\n",
            "                            Deadliest wildfires worldwide 1990-2021\n",
            "                Scale\n",
            "            \n",
            "                8\n",
            "            \n",
            "                                Basic Statistic\n",
            "                            Land burned by wildfires in the Mediterranean 2023, by country\n",
            "                                Basic Statistic\n",
            "                            Land burned by forest fires in Greece 2009-2023\n",
            "                                Basic Statistic\n",
            "                            Weekly land burned by wildfires in Greece 2021-2023\n",
            "                                Basic Statistic\n",
            "                            Land burned by forest fires in Spain 2009-2023\n",
            "                                Basic Statistic\n",
            "                            Land burned by forest fires in Italy 2009-2023\n",
            "                                Basic Statistic\n",
            "                            Weekly land burned by wildfires in Italy 2023\n",
            "                                Basic Statistic\n",
            "                            Land burned by forest fires in Algeria 2009-2022\n",
            "                                Basic Statistic\n",
            "                            Land burned by forest fires in Portugal 2009-2023\n",
            "                Effects\n",
            "            \n",
            "                8\n",
            "            \n",
            "                                Premium Statistic\n",
            "                            European wildfire costs 2023, by country\n",
            "                                Basic Statistic\n",
            "                            Operating costs for wildfire suppression in the Mediterranean 2021, by type\n",
            "                                Basic Statistic\n",
            "                            Wildfire-related casualties in the Mediterranean August 2021, by country\n",
            "                                Premium Statistic\n",
            "                            Forest cover loss by wildfires in Greece 2001-2022 \n",
            "                                Premium Statistic\n",
            "                            Forest cover loss by wildfires in Spain 2001-2022 \n",
            "                                Premium Statistic\n",
            "                            Wildfire-related injuries and casualties in Spain 2021\n",
            "                                Premium Statistic\n",
            "                            Number of aerial interventions to suppress wildfires in Spain 2021, by region\n",
            "                                Premium Statistic\n",
            "                            Forest cover loss by wildfires in Italy 2001-2022 Further related statistics\n",
            "                19\n",
            "            \n",
            "                                Basic Statistic\n",
            "                            U.S. prescribed fires - number of fires and acres burned 2017\n",
            "                                Premium Statistic\n",
            "                            Number of forest fires in Sweden 2014-2018\n",
            "                                Premium Statistic\n",
            "                            U.S. acres burned by wildfire events 2000-2016\n",
            "                                Premium Statistic\n",
            "                            Largest wildfires in California 2022, by acres burned\n",
            "                                Premium Statistic\n",
            "                            Number of wildfires in Chile 2000-2022\n",
            "                                Premium Statistic\n",
            "                            Wildfire annual growth in Chile 2000-2022\n",
            "                                Premium Statistic\n",
            "                            Wildfire annual growth in Uruguay 2014-2022\n",
            "                                Premium Statistic\n",
            "                            Number of wildfires in Paraguay 2013-2022\n",
            "                                Premium Statistic\n",
            "                            Wildfire annual growth in Colombia 2014-2022\n",
            "                                Basic Statistic\n",
            "                            Wildfire annual growth in Venezuela 2014-2022\n",
            "                                Premium Statistic\n",
            "                            Wildfire annual growth rate in Brazil 2022, by state\n",
            "                                Premium Statistic\n",
            "                            Wildfire annual growth in Paraguay 2014-2022\n",
            "                                Premium Statistic\n",
            "                            Monthly number of wildfires in California 2021-2022\n",
            "                                Premium Statistic\n",
            "                            Wildfire annual growth in Argentina 2016-2021\n",
            "                                Premium Statistic\n",
            "                            Wildfire annual growth in Peru 2014-2022\n",
            "                                Premium Statistic\n",
            "                            Number of wildfires in Ecuador 2013-2022\n",
            "                                Premium Statistic\n",
            "                            Number of wildfires in Guyana 2013-2022\n",
            "                                Premium Statistic\n",
            "                            Bolivia: wildfire annual growth rate 2014-2020\n",
            "                                Premium Statistic\n",
            "                            Wildfire annual growth rate in Suriname 2014-2022Further Content: You might find this interesting as well\n",
            "                StatisticsU.S. prescribed fires - number of fires and acres burned 2017Number of forest fires in Sweden 2014-2018U.S. acres burned by wildfire events 2000-2016Largest wildfires in California 2022, by acres burnedNumber of wildfires in Chile 2000-2022Wildfire annual growth in Chile 2000-2022Wildfire annual growth in Uruguay 2014-2022Number of wildfires in Paraguay 2013-2022Wildfire annual growth in Colombia 2014-2022Wildfire annual growth in Venezuela 2014-2022Wildfire annual growth rate in Brazil 2022, by stateWildfire annual growth in Paraguay 2014-2022Monthly number of wildfires in California 2021-2022Wildfire annual growth in Argentina 2016-2021Wildfire annual growth in Peru 2014-2022Number of wildfires in Ecuador 2013-2022Number of wildfires in Guyana 2013-2022Bolivia: wildfire annual growth rate 2014-2020Wildfire annual growth rate in Suriname 2014-2022Statista Accounts:\n",
            "                                                                                                                                                                    Access All Statistics. Starting from $1,788 USD / YearLearn more about how Statista can support your business.Request webinarEuropean Forest Fire Information System. (August 15, 2023). Area burned by wildfires in Greece from 2009 to 2023 (in hectares) [Graph]. In Statista. Retrieved September 20, 2023, from https://www.statista.com/statistics/1264709/area-burned-by-wildfire-in-greece/European Forest Fire Information System. \"Area burned by wildfires in Greece from 2009 to 2023 (in hectares).\" Chart. August 15, 2023. Statista. Accessed September 20, 2023. https://www.statista.com/statistics/1264709/area-burned-by-wildfire-in-greece/European Forest Fire Information System. (2023). Area burned by wildfires in Greece from 2009 to 2023 (in hectares). Statista. Statista Inc.. Accessed: September 20, 2023. https://www.statista.com/statistics/1264709/area-burned-by-wildfire-in-greece/European Forest Fire Information System. \"Area Burned by Wildfires in Greece from 2009 to 2023 (in Hectares).\" Statista, Statista Inc., 15 Aug 2023, https://www.statista.com/statistics/1264709/area-burned-by-wildfire-in-greece/European Forest Fire Information System, Area burned by wildfires in Greece from 2009 to 2023 (in hectares) Statista, https://www.statista.com/statistics/1264709/area-burned-by-wildfire-in-greece/ (last visited September 20, 2023)Area burned by wildfires in Greece from 2009 to 2023 (in hectares) [Graph], European Forest Fire Information System, August 15, 2023. [Online]. Available: https://www.statista.com/statistics/1264709/area-burned-by-wildfire-in-greece/\n"
          ]
        }
      ]
    }
  ]
}