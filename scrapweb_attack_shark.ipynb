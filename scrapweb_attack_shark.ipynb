{
  "nbformat": 4,
  "nbformat_minor": 0,
  "metadata": {
    "colab": {
      "provenance": [],
      "authorship_tag": "ABX9TyP22Z0UWPGs1VicIYjszahF",
      "include_colab_link": true
    },
    "kernelspec": {
      "name": "python3",
      "display_name": "Python 3"
    },
    "language_info": {
      "name": "python"
    }
  },
  "cells": [
    {
      "cell_type": "markdown",
      "metadata": {
        "id": "view-in-github",
        "colab_type": "text"
      },
      "source": [
        "<a href=\"https://colab.research.google.com/github/Nurafni080702/Analitik-data/blob/main/scrapweb_attack_shark.ipynb\" target=\"_parent\"><img src=\"https://colab.research.google.com/assets/colab-badge.svg\" alt=\"Open In Colab\"/></a>"
      ]
    },
    {
      "cell_type": "code",
      "execution_count": 1,
      "metadata": {
        "colab": {
          "base_uri": "https://localhost:8080/"
        },
        "id": "QK7OuHo1ocWV",
        "outputId": "aac4bbf3-9aa3-40e2-ce13-bdcb3f96f929"
      },
      "outputs": [
        {
          "output_type": "stream",
          "name": "stdout",
          "text": [
            "Requirement already satisfied: requests in /usr/local/lib/python3.10/dist-packages (2.31.0)\n",
            "Requirement already satisfied: charset-normalizer<4,>=2 in /usr/local/lib/python3.10/dist-packages (from requests) (3.2.0)\n",
            "Requirement already satisfied: idna<4,>=2.5 in /usr/local/lib/python3.10/dist-packages (from requests) (3.4)\n",
            "Requirement already satisfied: urllib3<3,>=1.21.1 in /usr/local/lib/python3.10/dist-packages (from requests) (2.0.4)\n",
            "Requirement already satisfied: certifi>=2017.4.17 in /usr/local/lib/python3.10/dist-packages (from requests) (2023.7.22)\n"
          ]
        }
      ],
      "source": [
        "pip install requests"
      ]
    },
    {
      "cell_type": "code",
      "source": [
        "pip install beautifulsoup4"
      ],
      "metadata": {
        "colab": {
          "base_uri": "https://localhost:8080/"
        },
        "id": "v2c5jvIjojhI",
        "outputId": "da713fb0-be22-414f-ebb7-ead1dc444e7b"
      },
      "execution_count": 2,
      "outputs": [
        {
          "output_type": "stream",
          "name": "stdout",
          "text": [
            "Requirement already satisfied: beautifulsoup4 in /usr/local/lib/python3.10/dist-packages (4.11.2)\n",
            "Requirement already satisfied: soupsieve>1.2 in /usr/local/lib/python3.10/dist-packages (from beautifulsoup4) (2.5)\n"
          ]
        }
      ]
    },
    {
      "cell_type": "code",
      "source": [
        "import requests     # library untuk URL\n",
        "from bs4 import BeautifulSoup   # library untuk scrapping web\n",
        "from csv import writer    # library untuk membuat file CSV"
      ],
      "metadata": {
        "id": "T_Rl_2GIooha"
      },
      "execution_count": 3,
      "outputs": []
    },
    {
      "cell_type": "code",
      "source": [
        "url = requests.get('https://www.statista.com/statistics/268324/number-of-shark-attacks-worldwide/')\n",
        "scrapweb = BeautifulSoup(url.content, 'html.parser')\n",
        "find_data = scrapweb.find_all(id=\"content\")\n",
        "\n",
        "for x in find_data:\n",
        "  print(x.text)"
      ],
      "metadata": {
        "colab": {
          "base_uri": "https://localhost:8080/"
        },
        "id": "E2g_O9Oaos4g",
        "outputId": "1cfe9ee7-e5b5-41cf-f5a1-ad0c4e65dfae"
      },
      "execution_count": 4,
      "outputs": [
        {
          "output_type": "stream",
          "name": "stdout",
          "text": [
            "Society›Geography & Nature\n",
            "                            Shark attacks worldwide 2000-2022\n",
            "                        \n",
            "                                                                Published by\n",
            "                                    Statista Research Department,\n",
            "                                                            \n",
            "                                                                            Mar 21, 2023\n",
            "                                                                    \n",
            "                            In 2022, there were a total of 57 unprovoked shark attacks on humans worldwide. This was the second lowest number during the period under consideration. Five of those shark attacks were fatal which is a slight decrease from the previous year.\n",
            "                            \n",
            "                                Read more\n",
            "                            \n",
            "                        Number of unprovoked shark attacks worldwide from 2000 to 2022\n",
            "                    \n",
            "                                    table\n",
            "                                \n",
            "                                    column chart\n",
            "                                CharacteristicFatalNon-fatal202255220219642020104720192622018462201758320164772015692201437020131067201277620111366201067620097612008451200716920064552005454200475920034522002363200147220001178\n",
            "                                                Loading statistic... \n",
            "                                            \n",
            "                                    Additional Information\n",
            "                                © Statista 2023\n",
            "                                Show source\n",
            "                                \n",
            "                Download for free\n",
            "            \n",
            "                        Download\n",
            "                    PDF+XLS+PNG+PPT+SourceShow detailed source information?Register for freeAlready a member?Log inSource\n",
            "                                Show sources information\n",
            "                            \n",
            "                                Show publisher information\n",
            "                            \n",
            "                                Use Ask Statista Research Service\n",
            "                            \n",
            "                            Release date\n",
            "                        March 2023More information\n",
            "                            Region\n",
            "                        WorldwideSurvey time period2000 to 2022\n",
            "                    Supplementary notes\n",
            "                Unprovoked attacks are defined as incidents where an attack on a live human occurs in the shark’s natural habitat with no human provocation of the shark.\r\n",
            "\r\n",
            "Data for previous years can be found here.Citation formatsCitation formats\n",
            "                        View options\n",
            "                    Other statistics on the topic\n",
            "                    \n",
            "                    Profit from additional features with an Employee Account\n",
            "                \n",
            "                \n",
            "                    \n",
            "                    Please create an employee account to be able to mark statistics as favorites.\n",
            "                    Then you can access your favorite statistics via the star in the header.\n",
            "                \n",
            "                \n",
            "                    Register now\n",
            "                \n",
            "                    \n",
            "                    Profit from the additional features of your individual account\n",
            "                \n",
            "                \n",
            "                    \n",
            "                    Currently, you are using a shared account. To use individual functions (e.g., mark statistics as favourites, set\n",
            "                    statistic alerts) please log in with your personal account.\n",
            "                    If you are an admin, please authenticate by logging in again.\n",
            "                \n",
            "                \n",
            "                    Login\n",
            "                To access this feature you need a Statista AccountRegister for freeAlready have an account?\n",
            "    LoginYou need one of our Business Solutions to use this functionImmediate access to statistics, forecasts & reportsUsage and publication rightsDownload in various formatsView Business SolutionsAlready have an account?\n",
            "    LoginStatista Accounts:\n",
            "                                                                                                                                                                    Access All Statistics. Starting from $1,788 USD / Year\n",
            "                        Basic Account\n",
            "                Get to know the platformYou only have access to basic statistics.Starter AccountThe ideal entry-level account for individual usersInstant access to 1m statisticsDownload in XLS, PDF & PNG formatDetailed references$189 USD $149 USD / Month *\n",
            "                                        in the first 12 months\n",
            "                                    Professional AccountFull accessBusiness Solutions including all features.\n",
            "            \n",
            "                        * Prices do not include sales tax.\n",
            "                \n",
            "        \n",
            "                                    Other statistics that may interest you\n",
            "                            The most important statisticsMinimum Arctic sea ice extent 2007-2022Maximum Arctic sea ice extent 1979-2023World's longest coastlinesRainfall volume Philippines 2021, by monitoring stationGlobal tree cover loss 2022, by leading countryThe biggest cities and municipalities in Belgium in 2022Mexico: strongest earthquakes 2010-2022Chile: strongest earthquakes 2005-2022Latin America: deadliest tsunamis 2000-2022, by countryCost of living index score of megacities APAC 2023The most important statisticsNumber of journalists killed worldwide 2014-2022, by regionGlobal terrorism index 2022Number of terrorism incidents in most impacted countries 2022Terrorist attacks by region 2007-2022Journalists killed worldwide 2014-2022, by professionTerrorism - global kidnappings 2007-2021Terrorism - number of people injured worldwide 2007-2021Terrorism - number of attacks worldwide 2006-2021Terrorism - number of fatalities worldwide 2006-2021Global economic costs of terrorism 2000-2019The most important statisticsEndangered and threatened marine species 2016The most important statisticsNumber of deaths caused by terrorism in Afghanistan 2007-2021Fatal incidences of terrorism in the EU 2017Terrorism - fatalities of private U.S. citizensTerrorism - kidnappings of private U.S. citizens 2011Survey on grown fear of terrorism in Norway after attack in Sweden 2017Number of terrorist attacks in the European Union 2010-2021Number of people experiencing sexual violence Australia 2005-2016 by genderTerrorism - attacks in Iraq 2006-2020Number of terrorist attacks in Sweden 1971-2021Number of attacks on homeless people in the U.S. by type 1999-2019The most important statisticsFatalities and injuries caused by major terrorist groups 2016Terrorism incidents caused by major terrorist groups 2016Survey on impact of terrorism on travel plans in Norway 2017Terrorism - property damage in most impacted countries 2015Terrorism - number of suicide attacks worldwide 1982-2016Terrorism - number of fatalities due to suicide attacks worldwide 1982-2016Terrorism - number of suicide attacks worldwide 2016, by countryTerrorism - number of suicide attacks worldwide 2016, by weaponTerrorism - suicide attacks and casualties worldwide 2016, by opposing forcesTerrorism - suicide attacks and casualties worldwide 2016, by groupOther statistics that may interest you Statistics on \n",
            "                About the industry\n",
            "            \n",
            "                10\n",
            "            \n",
            "                                Basic Statistic\n",
            "                            Minimum Arctic sea ice extent 2007-2022\n",
            "                                Basic Statistic\n",
            "                            Maximum Arctic sea ice extent 1979-2023\n",
            "                                Premium Statistic\n",
            "                            World's longest coastlines\n",
            "                                Premium Statistic\n",
            "                            Rainfall volume Philippines 2021, by monitoring station\n",
            "                                Basic Statistic\n",
            "                            Global tree cover loss 2022, by leading country\n",
            "                                Basic Statistic\n",
            "                            The biggest cities and municipalities in Belgium in 2022\n",
            "                                Premium Statistic\n",
            "                            Mexico: strongest earthquakes 2010-2022\n",
            "                                Premium Statistic\n",
            "                            Chile: strongest earthquakes 2005-2022\n",
            "                                Premium Statistic\n",
            "                            Latin America: deadliest tsunamis 2000-2022, by country\n",
            "                                Premium Statistic\n",
            "                            Cost of living index score of megacities APAC 2023\n",
            "                About the region\n",
            "            \n",
            "                10\n",
            "            \n",
            "                                Premium Statistic\n",
            "                            Number of journalists killed worldwide 2014-2022, by region\n",
            "                                Basic Statistic\n",
            "                            Global terrorism index 2022\n",
            "                                Basic Statistic\n",
            "                            Number of terrorism incidents in most impacted countries 2022\n",
            "                                Basic Statistic\n",
            "                            Terrorist attacks by region 2007-2022\n",
            "                                Basic Statistic\n",
            "                            Journalists killed worldwide 2014-2022, by profession\n",
            "                                Basic Statistic\n",
            "                            Terrorism - global kidnappings 2007-2021\n",
            "                                Basic Statistic\n",
            "                            Terrorism - number of people injured worldwide 2007-2021\n",
            "                                Premium Statistic\n",
            "                            Terrorism - number of attacks worldwide 2006-2021\n",
            "                                Basic Statistic\n",
            "                            Terrorism - number of fatalities worldwide 2006-2021\n",
            "                                Basic Statistic\n",
            "                            Global economic costs of terrorism 2000-2019\n",
            "                Selected statistics\n",
            "            \n",
            "                1\n",
            "            \n",
            "                                Basic Statistic\n",
            "                            Endangered and threatened marine species 2016\n",
            "                Other regions\n",
            "            \n",
            "                10\n",
            "            \n",
            "                                Basic Statistic\n",
            "                            Number of deaths caused by terrorism in Afghanistan 2007-2021\n",
            "                                Basic Statistic\n",
            "                            Fatal incidences of terrorism in the EU 2017\n",
            "                                Basic Statistic\n",
            "                            Terrorism - fatalities of private U.S. citizens\n",
            "                                Basic Statistic\n",
            "                            Terrorism - kidnappings of private U.S. citizens 2011\n",
            "                                Basic Statistic\n",
            "                            Survey on grown fear of terrorism in Norway after attack in Sweden 2017\n",
            "                                Basic Statistic\n",
            "                            Number of terrorist attacks in the European Union 2010-2021\n",
            "                                Premium Statistic\n",
            "                            Number of people experiencing sexual violence Australia 2005-2016 by gender\n",
            "                                Basic Statistic\n",
            "                            Terrorism - attacks in Iraq 2006-2020\n",
            "                                Premium Statistic\n",
            "                            Number of terrorist attacks in Sweden 1971-2021\n",
            "                                Premium Statistic\n",
            "                            Number of attacks on homeless people in the U.S. by type 1999-2019\n",
            "                Related statistics\n",
            "            \n",
            "                10\n",
            "            \n",
            "                                Basic Statistic\n",
            "                            Fatalities and injuries caused by major terrorist groups 2016\n",
            "                                Basic Statistic\n",
            "                            Terrorism incidents caused by major terrorist groups 2016\n",
            "                                Basic Statistic\n",
            "                            Survey on impact of terrorism on travel plans in Norway 2017\n",
            "                                Basic Statistic\n",
            "                            Terrorism - property damage in most impacted countries 2015\n",
            "                                Premium Statistic\n",
            "                            Terrorism - number of suicide attacks worldwide 1982-2016\n",
            "                                Premium Statistic\n",
            "                            Terrorism - number of fatalities due to suicide attacks worldwide 1982-2016\n",
            "                                Premium Statistic\n",
            "                            Terrorism - number of suicide attacks worldwide 2016, by country\n",
            "                                Premium Statistic\n",
            "                            Terrorism - number of suicide attacks worldwide 2016, by weapon\n",
            "                                Premium Statistic\n",
            "                            Terrorism - suicide attacks and casualties worldwide 2016, by opposing forces\n",
            "                                Premium Statistic\n",
            "                            Terrorism - suicide attacks and casualties worldwide 2016, by groupFurther related statistics\n",
            "                6\n",
            "            \n",
            "                                Basic Statistic\n",
            "                            Global primary energy consumption 2022, by country \n",
            "                                Premium Statistic\n",
            "                            Income of the U.S. seafood industry 2006-2019\n",
            "                                Premium Statistic\n",
            "                            U.S. seafood industry sales in 2019, by state\n",
            "                                Basic Statistic\n",
            "                            Global inland capture fisheries production by region 2010\n",
            "                                Premium Statistic\n",
            "                            Aquaculture production in the Americas by country 2010\n",
            "                                Basic Statistic\n",
            "                            Active duty U.S. Marine Corps personnel numbers from 1995 to 2010Further Content: You might find this interesting as well\n",
            "                StatisticsGlobal primary energy consumption 2022, by country Income of the U.S. seafood industry 2006-2019U.S. seafood industry sales in 2019, by stateGlobal inland capture fisheries production by region 2010Aquaculture production in the Americas by country 2010Active duty U.S. Marine Corps personnel numbers from 1995 to 2010TopicsThe Great Depression: U.S. recoveryThe 1973-1975 RecessionPost-WWII economic boomThe Great Depression: U.S.The Wall Street Crash of 1929Statista Accounts:\n",
            "                                                                                                                                                                    Access All Statistics. Starting from $1,788 USD / YearLearn more about how Statista can support your business.Request webinarUniversity of Florida (International Shark Attack File). (March 14, 2023). Number of unprovoked shark attacks worldwide from 2000 to 2022 [Graph]. In Statista. Retrieved September 20, 2023, from https://www.statista.com/statistics/268324/number-of-shark-attacks-worldwide/University of Florida (International Shark Attack File). \"Number of unprovoked shark attacks worldwide from 2000 to 2022.\" Chart. March 14, 2023. Statista. Accessed September 20, 2023. https://www.statista.com/statistics/268324/number-of-shark-attacks-worldwide/University of Florida (International Shark Attack File). (2023). Number of unprovoked shark attacks worldwide from 2000 to 2022. Statista. Statista Inc.. Accessed: September 20, 2023. https://www.statista.com/statistics/268324/number-of-shark-attacks-worldwide/University of Florida (International Shark Attack File). \"Number of Unprovoked Shark Attacks Worldwide from 2000 to 2022.\" Statista, Statista Inc., 14 Mar 2023, https://www.statista.com/statistics/268324/number-of-shark-attacks-worldwide/University of Florida (International Shark Attack File), Number of unprovoked shark attacks worldwide from 2000 to 2022 Statista, https://www.statista.com/statistics/268324/number-of-shark-attacks-worldwide/ (last visited September 20, 2023)Number of unprovoked shark attacks worldwide from 2000 to 2022 [Graph], University of Florida (International Shark Attack File), March 14, 2023. [Online]. Available: https://www.statista.com/statistics/268324/number-of-shark-attacks-worldwide/\n"
          ]
        }
      ]
    }
  ]
}