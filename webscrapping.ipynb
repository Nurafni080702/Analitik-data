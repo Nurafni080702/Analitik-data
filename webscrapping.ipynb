{
  "nbformat": 4,
  "nbformat_minor": 0,
  "metadata": {
    "colab": {
      "provenance": []
    },
    "kernelspec": {
      "name": "python3",
      "display_name": "Python 3"
    },
    "language_info": {
      "name": "python"
    }
  },
  "cells": [
    {
      "cell_type": "code",
      "execution_count": null,
      "metadata": {
        "colab": {
          "base_uri": "https://localhost:8080/"
        },
        "id": "QWe5u1ilQLBD",
        "outputId": "f45b20e8-b90b-4015-e2de-9d5a28d62f43"
      },
      "outputs": [
        {
          "output_type": "stream",
          "name": "stdout",
          "text": [
            "Requirement already satisfied: requests in /usr/local/lib/python3.10/dist-packages (2.31.0)\n",
            "Requirement already satisfied: charset-normalizer<4,>=2 in /usr/local/lib/python3.10/dist-packages (from requests) (3.2.0)\n",
            "Requirement already satisfied: idna<4,>=2.5 in /usr/local/lib/python3.10/dist-packages (from requests) (3.4)\n",
            "Requirement already satisfied: urllib3<3,>=1.21.1 in /usr/local/lib/python3.10/dist-packages (from requests) (2.0.4)\n",
            "Requirement already satisfied: certifi>=2017.4.17 in /usr/local/lib/python3.10/dist-packages (from requests) (2023.7.22)\n"
          ]
        }
      ],
      "source": [
        "pip install requests"
      ]
    },
    {
      "cell_type": "code",
      "source": [
        "pip install beautifulsoup4"
      ],
      "metadata": {
        "colab": {
          "base_uri": "https://localhost:8080/"
        },
        "id": "aTQjI15KQgOB",
        "outputId": "75dbb5ff-fe30-4cec-c586-db772e698c37"
      },
      "execution_count": null,
      "outputs": [
        {
          "output_type": "stream",
          "name": "stdout",
          "text": [
            "Requirement already satisfied: beautifulsoup4 in /usr/local/lib/python3.10/dist-packages (4.11.2)\n",
            "Requirement already satisfied: soupsieve>1.2 in /usr/local/lib/python3.10/dist-packages (from beautifulsoup4) (2.5)\n"
          ]
        }
      ]
    },
    {
      "cell_type": "code",
      "source": [
        "import requests     # library untuk URL\n",
        "from bs4 import BeautifulSoup   # library untuk scrapping web\n",
        "from csv import writer    # library untuk membuat file CSV"
      ],
      "metadata": {
        "id": "tBbddopdQjvo"
      },
      "execution_count": null,
      "outputs": []
    },
    {
      "cell_type": "code",
      "source": [
        "url = requests.get('https://databoks.katadata.co.id/datapublish/2021/11/20/hanya-002-penduduk-indonesia-berpendidikan-hingga-s3-pada-juni-2021')\n",
        "scrapweb = BeautifulSoup(url.content, 'html.parser')\n",
        "find_data = scrapweb.find_all(id=\"deskripsiintifirst\")\n",
        "\n",
        "for x in find_data:\n",
        "  print(x.text)"
      ],
      "metadata": {
        "colab": {
          "base_uri": "https://localhost:8080/"
        },
        "id": "n1fB9LvdTRCl",
        "outputId": "14d9103d-1512-40e6-d135-fb483aa82453"
      },
      "execution_count": null,
      "outputs": [
        {
          "output_type": "stream",
          "name": "stdout",
          "text": [
            "\n",
            "Berdasarkan data Direktorat Kependudukan dan Pencatatan Sipil (Dukcapil) Kementerian Dalam Negeri, jumlah penduduk Indonesia mencapai 272,23 juta jiwa pada Juni 2021. Berdasarkan jenjang pendidikannya, sebanyak 59,19 ribu jiwa atau hanya 0,02% penduduk Indonesia yang berpendidikan hingga jenjang S3.\n",
            "Kemudian, sebanyak 822,47 ribu jiwa atau 0,03% penduduk yang berpendidikan hingga S2. Lalu, penduduk yang berpendidikan hingga S1 sebanyak 11,58 juta (4,25%).   \n",
            "Selanjutnya, penduduk yang menempuh pendidikan jenjang D3 sebanyak 3,46 juta jiwa (1,27%), serta berpendidikan D1 dan D2 mencapai 1,15 juta jiwa (0,42%). Total, sebanyak 17,08 juta jiwa (16,7%) penduduk Indonesia yang berpendidikan hingga ke perguruan tinggi.\n",
            "Sementara itu, total penduduk yang berpendidikan hingga sekolah lanjutan pertama dan atas sebanyak 95,82 juta jiwa (35,2%). Secara rinci, penduduk yang berpendidikan hingga Sekolah Lanjutan Tingkat Atas (SLTA) mencapai 56,15 juta jiwa (20,63%) dan yang berpendidikan Sekolah Lanjutan Tingkat Pertama (SLTP) sebanya 39,67 juta jiwa (14,57%). \n",
            "Sedangkan yan tamat Sekolah Dasar (SD) sebanyak 64,84 juta jiwa (23,82%). Sebanyak 31 juta jiwa (11,39%) penduduk yang belum tamat SD, serta 63,49 juta jiwa (23,32%) yang tdak/belum sekolah.\n",
            "(baca: Persentase Pekerja Lulusan Universitas di Indonesia Semakin Meningkat)\n",
            " \n",
            "\n"
          ]
        }
      ]
    },
    {
      "cell_type": "code",
      "source": [],
      "metadata": {
        "id": "Oc1gbYz_WLUS"
      },
      "execution_count": null,
      "outputs": []
    }
  ]
}